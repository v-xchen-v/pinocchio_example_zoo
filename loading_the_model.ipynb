{
 "cells": [
  {
   "cell_type": "code",
   "execution_count": 23,
   "metadata": {},
   "outputs": [],
   "source": [
    "# Ref: https://gepettoweb.laas.fr/doc/stack-of-tasks/pinocchio/master/doxygen-html/md_doc_b_examples_a_model.html#autotoc_md33\n",
    "\n",
    "import pinocchio as pin\n",
    "urdf_file_path = r'robot_description/inspirehand_R/urdf/R_inspire.urdf'"
   ]
  },
  {
   "cell_type": "code",
   "execution_count": 24,
   "metadata": {},
   "outputs": [
    {
     "data": {
      "text/plain": [
       "Nb joints = 13 (nq=12,nv=12)\n",
       "  Joint 0 universe: parent=0\n",
       "  Joint 1 R_index_proximal_joint: parent=0\n",
       "  Joint 2 R_index_intermediate_joint: parent=1\n",
       "  Joint 3 R_middle_proximal_joint: parent=0\n",
       "  Joint 4 R_middle_intermediate_joint: parent=3\n",
       "  Joint 5 R_pinky_proximal_joint: parent=0\n",
       "  Joint 6 R_pinky_intermediate_joint: parent=5\n",
       "  Joint 7 R_ring_proximal_joint: parent=0\n",
       "  Joint 8 R_ring_intermediate_joint: parent=7\n",
       "  Joint 9 R_thumb_proximal_yaw_joint: parent=0\n",
       "  Joint 10 R_thumb_proximal_pitch_joint: parent=9\n",
       "  Joint 11 R_thumb_intermediate_joint: parent=10\n",
       "  Joint 12 R_thumb_distal_joint: parent=11"
      ]
     },
     "execution_count": 24,
     "metadata": {},
     "output_type": "execute_result"
    }
   ],
   "source": [
    "# Load the model from urdf file\n",
    "model = pin.buildModelFromUrdf(urdf_file_path)\n",
    "model"
   ]
  },
  {
   "cell_type": "code",
   "execution_count": 25,
   "metadata": {},
   "outputs": [
    {
     "data": {
      "text/plain": [
       "13"
      ]
     },
     "execution_count": 25,
     "metadata": {},
     "output_type": "execute_result"
    }
   ],
   "source": [
    "model.njoints"
   ]
  },
  {
   "cell_type": "code",
   "execution_count": 26,
   "metadata": {},
   "outputs": [
    {
     "data": {
      "text/plain": [
       "13"
      ]
     },
     "execution_count": 26,
     "metadata": {},
     "output_type": "execute_result"
    }
   ],
   "source": [
    "model.nbodies"
   ]
  },
  {
   "cell_type": "code",
   "execution_count": 27,
   "metadata": {},
   "outputs": [
    {
     "data": {
      "text/plain": [
       "31"
      ]
     },
     "execution_count": 27,
     "metadata": {},
     "output_type": "execute_result"
    }
   ],
   "source": [
    "model.nframes"
   ]
  },
  {
   "cell_type": "code",
   "execution_count": 28,
   "metadata": {},
   "outputs": [
    {
     "name": "stdout",
     "output_type": "stream",
     "text": [
      "universe\n",
      "R_index_proximal_joint\n",
      "R_index_intermediate_joint\n",
      "R_middle_proximal_joint\n",
      "R_middle_intermediate_joint\n",
      "R_pinky_proximal_joint\n",
      "R_pinky_intermediate_joint\n",
      "R_ring_proximal_joint\n",
      "R_ring_intermediate_joint\n",
      "R_thumb_proximal_yaw_joint\n",
      "R_thumb_proximal_pitch_joint\n",
      "R_thumb_intermediate_joint\n",
      "R_thumb_distal_joint\n"
     ]
    }
   ],
   "source": [
    "joint_names = model.names\n",
    "for i in range(0, model.njoints):\n",
    "    print(joint_names[i])"
   ]
  },
  {
   "cell_type": "code",
   "execution_count": 37,
   "metadata": {},
   "outputs": [
    {
     "data": {
      "text/plain": [
       "  R =\n",
       "1 0 0\n",
       "0 1 0\n",
       "0 0 1\n",
       "  p = -0.0026138   0.032026     -0.001"
      ]
     },
     "execution_count": 37,
     "metadata": {},
     "output_type": "execute_result"
    }
   ],
   "source": [
    "model.jointPlacements[2]"
   ]
  },
  {
   "cell_type": "code",
   "execution_count": 9,
   "metadata": {},
   "outputs": [
    {
     "data": {
      "text/plain": [
       "<pinocchio.pinocchio_pywrap.Data at 0x226c060>"
      ]
     },
     "execution_count": 9,
     "metadata": {},
     "output_type": "execute_result"
    }
   ],
   "source": [
    "# Create data required by the algorithm\n",
    "data = model.createData()\n",
    "data"
   ]
  },
  {
   "cell_type": "code",
   "execution_count": 10,
   "metadata": {},
   "outputs": [
    {
     "name": "stdout",
     "output_type": "stream",
     "text": [
      "model name: right\n"
     ]
    }
   ],
   "source": [
    "print(\"model name: \" + model.name)"
   ]
  },
  {
   "cell_type": "code",
   "execution_count": 11,
   "metadata": {},
   "outputs": [
    {
     "name": "stdout",
     "output_type": "stream",
     "text": [
      "q: [-0.14045472  0.58481626 -0.84022929  0.06314509  2.81015551  1.85955956\n",
      "  1.70535357  1.21940478  0.24072434  1.03184709  0.02771097  0.41290751\n",
      "  0.23329368  1.36710048  0.26635445  0.46132215 -0.00914669  0.08704704\n",
      "  1.19870942]\n"
     ]
    }
   ],
   "source": [
    "# Sample a random configuration\n",
    "q = pin.randomConfiguration(model)\n",
    "print(\"q: %s\" % q.T)"
   ]
  },
  {
   "cell_type": "code",
   "execution_count": 12,
   "metadata": {},
   "outputs": [],
   "source": [
    "# Perform the forward kinematics over the kinematic tree\n",
    "pin.forwardKinematics(model, data, q)"
   ]
  },
  {
   "cell_type": "code",
   "execution_count": 13,
   "metadata": {},
   "outputs": [
    {
     "name": "stdout",
     "output_type": "stream",
     "text": [
      "universe                 :  0.00  0.00  0.00\n",
      "joint1                   :  0.00  0.00  0.24\n",
      "joint2                   :  0.00  0.00  0.24\n",
      "joint3                   :  0.14 -0.02  0.45\n",
      "joint4                   :  0.14 -0.02  0.45\n",
      "joint5                   :  0.26 -0.05  0.62\n",
      "joint6                   :  0.26 -0.05  0.62\n",
      "joint7                   :  0.21  0.12  0.63\n",
      "R_index_proximal_joint   :  0.18  0.25  0.66\n",
      "R_index_intermediate_joint :  0.16  0.25  0.67\n",
      "R_middle_proximal_joint  :  0.17  0.25  0.64\n",
      "R_middle_intermediate_joint :  0.14  0.26  0.66\n",
      "R_pinky_proximal_joint   :  0.15  0.24  0.61\n",
      "R_pinky_intermediate_joint :  0.13  0.26  0.62\n",
      "R_ring_proximal_joint    :  0.16  0.25  0.63\n",
      "R_ring_intermediate_joint :  0.13  0.24  0.65\n",
      "R_thumb_proximal_yaw_joint :  0.18  0.18  0.66\n",
      "R_thumb_proximal_pitch_joint :  0.18  0.17  0.67\n",
      "R_thumb_intermediate_joint :  0.17  0.20  0.71\n",
      "R_thumb_distal_joint     :  0.16  0.21  0.73\n"
     ]
    }
   ],
   "source": [
    "# Print out the placement of each joint of the kinematic tree\n",
    "for name, oMi in zip(model.names, data.oMi):\n",
    "    print((\"{:<24} : {: .2f} {: .2f} {: .2f}\".format(name, *oMi.translation.T.flat)))"
   ]
  }
 ],
 "metadata": {
  "kernelspec": {
   "display_name": ".venv",
   "language": "python",
   "name": "python3"
  },
  "language_info": {
   "codemirror_mode": {
    "name": "ipython",
    "version": 3
   },
   "file_extension": ".py",
   "mimetype": "text/x-python",
   "name": "python",
   "nbconvert_exporter": "python",
   "pygments_lexer": "ipython3",
   "version": "3.8.10"
  }
 },
 "nbformat": 4,
 "nbformat_minor": 2
}
