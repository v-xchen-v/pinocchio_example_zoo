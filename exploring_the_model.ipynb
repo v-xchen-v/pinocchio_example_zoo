{
 "cells": [
  {
   "cell_type": "code",
   "execution_count": 1,
   "metadata": {},
   "outputs": [],
   "source": [
    "# load the model first\n",
    "# Ref: https://gepettoweb.laas.fr/doc/stack-of-tasks/pinocchio/master/doxygen-html/md_doc_b_examples_a_model.html#autotoc_md33\n",
    "\n",
    "import pinocchio as pin\n",
    "urdf_file_path = r'robot_description/inspirehand_R/urdf/R_inspire.urdf'\n",
    "# Load the model from urdf file\n",
    "model = pin.buildModelFromUrdf(urdf_file_path)"
   ]
  },
  {
   "cell_type": "markdown",
   "metadata": {},
   "source": [
    "The robot model is available in (robot)model. It contains the names of all the robot joint names, the kinematic tree parents (i.e. the graph of parents, 0 being the root and having no parents), the position of the current joint in the parent coordinate frame jointPosition, the mass, inertia and center-of-gravity position of all the bodies (condensed in a spatial inertia 6x6 matrix) inertias and the gravity of the associated world gravity. All these functions are documented and are available in the correponding class dictionnary"
   ]
  },
  {
   "cell_type": "code",
   "execution_count": 5,
   "metadata": {},
   "outputs": [
    {
     "name": "stdout",
     "output_type": "stream",
     "text": [
      " **** __module__: str(object='') -> str\n",
      "str(bytes_or_buffer[, encoding[, errors]]) -> str\n",
      "\n",
      "Create a new string object from the given object. If encoding or\n",
      "errors is specified, then the object must expose a data buffer\n",
      "that will be decoded using the given encoding and error handler.\n",
      "Otherwise, returns the result of object.__str__() (if defined)\n",
      "or repr(object).\n",
      "encoding defaults to sys.getdefaultencoding().\n",
      "errors defaults to 'strict'.\n",
      " **** __doc__: str(object='') -> str\n",
      "str(bytes_or_buffer[, encoding[, errors]]) -> str\n",
      "\n",
      "Create a new string object from the given object. If encoding or\n",
      "errors is specified, then the object must expose a data buffer\n",
      "that will be decoded using the given encoding and error handler.\n",
      "Otherwise, returns the result of object.__str__() (if defined)\n",
      "or repr(object).\n",
      "encoding defaults to sys.getdefaultencoding().\n",
      "errors defaults to 'strict'.\n",
      " **** __reduce__: None\n",
      " **** __init__: \n",
      "__init__( (object)self) -> None :\n",
      "    Default constructor. Constructs an empty model.\n",
      " **** nq: None\n",
      " **** nv: None\n",
      " **** njoints: None\n",
      " **** nbodies: None\n",
      " **** nframes: None\n",
      " **** inertias: None\n",
      " **** jointPlacements: None\n",
      " **** joints: None\n",
      " **** idx_qs: None\n",
      " **** nqs: None\n",
      " **** idx_vs: None\n",
      " **** nvs: None\n",
      " **** parents: None\n",
      " **** names: None\n",
      " **** name: None\n",
      " **** referenceConfigurations: None\n",
      " **** rotorInertia: Vector of rotor inertia parameters.\n",
      " **** rotorGearRatio: Vector of rotor gear ratio parameters.\n",
      " **** friction: Vector of joint friction parameters.\n",
      " **** damping: Vector of joint damping parameters.\n",
      " **** effortLimit: Joint max effort.\n",
      " **** velocityLimit: Joint max velocity.\n",
      " **** lowerPositionLimit: Limit for joint lower position.\n",
      " **** upperPositionLimit: Limit for joint upper position.\n",
      " **** frames: Vector of frames contained in the model.\n",
      " **** supports: Vector of supports. supports[j] corresponds to the list of joints on the path between\n",
      "the current *j* to the root of the kinematic tree.\n",
      " **** subtrees: Vector of subtrees. subtree[j] corresponds to the subtree supported by the joint j.\n",
      " **** gravity: Motion vector corresponding to the gravity field expressed in the world Frame.\n",
      " **** addJoint: \n",
      "addJoint( (Model)self, (int)parent_id, (JointModel)joint_model, (SE3)joint_placement, (str)joint_name) -> int :\n",
      "    Adds a joint to the kinematic tree. The joint is defined by its placement relative to its parent joint and its name.\n",
      "\n",
      "addJoint( (Model)self, (int)parent_id, (JointModel)joint_model, (SE3)joint_placement, (str)joint_name, (numpy.ndarray)max_effort, (numpy.ndarray)max_velocity, (numpy.ndarray)min_config, (numpy.ndarray)max_config) -> int :\n",
      "    Adds a joint to the kinematic tree with given bounds. The joint is defined by its placement relative to its parent joint and its name.This signature also takes as input effort, velocity limits as well as the bounds on the joint configuration.\n",
      "\n",
      "addJoint( (Model)self, (int)parent_id, (JointModel)joint_model, (SE3)joint_placement, (str)joint_name, (numpy.ndarray)max_effort, (numpy.ndarray)max_velocity, (numpy.ndarray)min_config, (numpy.ndarray)max_config, (numpy.ndarray)friction, (numpy.ndarray)damping) -> int :\n",
      "    Adds a joint to the kinematic tree with given bounds. The joint is defined by its placement relative to its parent joint and its name.\n",
      "    This signature also takes as input effort, velocity limits as well as the bounds on the joint configuration.\n",
      "    The user should also provide the friction and damping related to the joint.\n",
      " **** addJointFrame: \n",
      "addJointFrame( (Model)self, (int)joint_id [, (int)frame_id]) -> int :\n",
      "    Add the joint provided by its joint_id as a frame to the frame tree.\n",
      "    The frame_id may be optionally provided.\n",
      " **** appendBodyToJoint: \n",
      "appendBodyToJoint( (Model)self, (int)joint_id, (Inertia)body_inertia, (SE3)body_placement) -> None :\n",
      "    Appends a body to the joint given by its index. The body is defined by its inertia, its relative placement regarding to the joint and its name.\n",
      " **** addBodyFrame: \n",
      "addBodyFrame( (Model)self, (str)body_name, (int)parentJoint, (SE3)body_placement, (int)previous_frame) -> int :\n",
      "    add a body to the frame tree\n",
      " **** getBodyId: \n",
      "getBodyId( (Model)self, (str)name) -> int :\n",
      "    Return the index of a frame of type BODY given by its name\n",
      " **** existBodyName: \n",
      "existBodyName( (Model)self, (str)name) -> bool :\n",
      "    Check if a frame of type BODY exists, given its name\n",
      " **** getJointId: \n",
      "getJointId( (Model)self, (str)name) -> int :\n",
      "    Return the index of a joint given by its name\n",
      " **** existJointName: \n",
      "existJointName( (Model)self, (str)name) -> bool :\n",
      "    Check if a joint given by its name exists\n",
      " **** getFrameId: \n",
      "getFrameId( (Model)self, (str)name [, (FrameType)type]) -> int :\n",
      "    Returns the index of the frame given by its name and its type. If the frame is not in the frames vector, it returns the current size of the frames vector.\n",
      " **** existFrame: \n",
      "existFrame( (Model)self, (str)name [, (FrameType)type]) -> bool :\n",
      "    Returns true if the frame given by its name exists inside the Model with the given type.\n",
      " **** addFrame: \n",
      "addFrame( (Model)self, (Frame)frame [, (bool)append_inertia=True]) -> int :\n",
      "    Add a frame to the vector of frames. If append_inertia set to True, the inertia value contained in frame will be added to the inertia supported by the parent joint.\n",
      " **** createData: \n",
      "createData( (Model)self) -> Data :\n",
      "    Create a Data object for the given model.\n",
      " **** check: \n",
      "check( (Model)self, (Data)data) -> bool :\n",
      "    Check consistency of data wrt model.\n",
      " **** hasConfigurationLimit: \n",
      "hasConfigurationLimit( (Model)self) -> StdVec_Bool :\n",
      "    Returns list of boolean if joints have configuration limit.\n",
      " **** hasConfigurationLimitInTangent: \n",
      "hasConfigurationLimitInTangent( (Model)self) -> StdVec_Bool :\n",
      "    Returns list of boolean if joints have configuration limit in tangent space  .\n",
      " **** __eq__: \n",
      "__eq__( (Model)arg1, (Model)arg2) -> object\n",
      " **** __ne__: \n",
      "__ne__( (Model)arg1, (Model)arg2) -> object\n",
      " **** saveToText: \n",
      "saveToText( (Model)arg1, (str)filename) -> None :\n",
      "    Saves *this inside a text file.\n",
      " **** loadFromText: \n",
      "loadFromText( (Model)arg1, (str)filename) -> None :\n",
      "    Loads *this from a text file.\n",
      " **** saveToString: \n",
      "saveToString( (Model)self) -> str :\n",
      "    Parses the current object to a string.\n",
      " **** loadFromString: \n",
      "loadFromString( (Model)self, (str)string) -> None :\n",
      "    Parses from the input string the content of the current object.\n",
      " **** saveToXML: \n",
      "saveToXML( (Model)arg1, (str)filename, (str)tag_name) -> None :\n",
      "    Saves *this inside a XML file.\n",
      " **** loadFromXML: \n",
      "loadFromXML( (Model)self, (str)filename, (str)tag_name) -> None :\n",
      "    Loads *this from a XML file.\n",
      " **** saveToBinary: \n",
      "saveToBinary( (Model)self, (str)filename) -> None :\n",
      "    Saves *this inside a binary file.\n",
      "\n",
      "saveToBinary( (Model)self, (StreamBuffer)buffer) -> None :\n",
      "    Saves *this inside a binary buffer.\n",
      "\n",
      "saveToBinary( (Model)self, (StaticBuffer)buffer) -> None :\n",
      "    Saves *this inside a static binary buffer.\n",
      " **** loadFromBinary: \n",
      "loadFromBinary( (Model)self, (str)filename) -> None :\n",
      "    Loads *this from a binary file.\n",
      "\n",
      "loadFromBinary( (Model)self, (StreamBuffer)buffer) -> None :\n",
      "    Loads *this from a binary buffer.\n",
      "\n",
      "loadFromBinary( (Model)self, (StaticBuffer)buffer) -> None :\n",
      "    Loads *this from a static binary buffer.\n",
      " **** __str__: \n",
      "__str__( (Model)arg1) -> object\n",
      " **** __repr__: \n",
      "__repr__( (Model)arg1) -> object\n",
      " **** copy: \n",
      "copy( (Model)self) -> Model :\n",
      "    Returns a copy of *this.\n",
      " **** __copy__: \n",
      "__copy__( (Model)self) -> Model :\n",
      "    Returns a copy of *this.\n",
      " **** __deepcopy__: \n",
      "__deepcopy__( (Model)self, (dict)memo) -> Model :\n",
      "    Returns a deep copy of *this.\n",
      " **** __safe_for_unpickling__: bool(x) -> bool\n",
      "\n",
      "Returns True when the argument x is true, False otherwise.\n",
      "The builtins True and False are the only two instances of the class bool.\n",
      "The class bool is a subclass of the class int, and cannot be subclassed.\n",
      " **** __getstate_manages_dict__: bool(x) -> bool\n",
      "\n",
      "Returns True when the argument x is true, False otherwise.\n",
      "The builtins True and False are the only two instances of the class bool.\n",
      "The class bool is a subclass of the class int, and cannot be subclassed.\n",
      " **** __getinitargs__: \n",
      "__getinitargs__( (Model)arg1) -> tuple\n",
      " **** __getstate__: \n",
      "__getstate__( (Model)arg1) -> tuple\n",
      " **** __setstate__: \n",
      "__setstate__( (Model)arg1, (tuple)arg2) -> None\n"
     ]
    }
   ],
   "source": [
    "for name, function in model.__class__.__dict__.items():\n",
    "    print(' **** %s: %s' % (name, function.__doc__))"
   ]
  },
  {
   "cell_type": "code",
   "execution_count": 6,
   "metadata": {},
   "outputs": [
    {
     "name": "stdout",
     "output_type": "stream",
     "text": [
      "universe\n",
      "R_index_proximal_joint\n",
      "R_index_intermediate_joint\n",
      "R_middle_proximal_joint\n",
      "R_middle_intermediate_joint\n",
      "R_pinky_proximal_joint\n",
      "R_pinky_intermediate_joint\n",
      "R_ring_proximal_joint\n",
      "R_ring_intermediate_joint\n",
      "R_thumb_proximal_yaw_joint\n",
      "R_thumb_proximal_pitch_joint\n",
      "R_thumb_intermediate_joint\n",
      "R_thumb_distal_joint\n"
     ]
    }
   ],
   "source": [
    "# print joint names\n",
    "for i in range(0, model.njoints):\n",
    "    print(model.names[i])"
   ]
  },
  {
   "cell_type": "markdown",
   "metadata": {},
   "source": [
    "Similarly, the robot data are available in robot.data. All the variables allocated by the classical rigid-body dynamics algorithms are stored in robot.data and are available through the python wrapping. Similarly to the model object, the function are documented and are available from the class dictionnary. The most useful in the following will be the placement of the frame associated which each joint output stored in robot.data.oMi.\n",
    "\n",
    "For example, the robot end effector corresponds to the output of the last joint, called wrist_1_joint. The ID of the joint in the joint list can be recovered from its name, and then used to access its placement:"
   ]
  },
  {
   "cell_type": "code",
   "execution_count": 14,
   "metadata": {},
   "outputs": [],
   "source": [
    "data = model.createData()"
   ]
  },
  {
   "cell_type": "code",
   "execution_count": 36,
   "metadata": {},
   "outputs": [
    {
     "ename": "NameError",
     "evalue": "name 'robot' is not defined",
     "output_type": "error",
     "traceback": [
      "\u001b[0;31m---------------------------------------------------------------------------\u001b[0m",
      "\u001b[0;31mNameError\u001b[0m                                 Traceback (most recent call last)",
      "Cell \u001b[0;32mIn[36], line 7\u001b[0m\n\u001b[1;32m      5\u001b[0m q \u001b[38;5;241m=\u001b[39m model\u001b[38;5;241m.\u001b[39mjoints[idx]\n\u001b[1;32m      6\u001b[0m \u001b[38;5;66;03m# Compute and get the placement of joint number idx\u001b[39;00m\n\u001b[0;32m----> 7\u001b[0m placement \u001b[38;5;241m=\u001b[39m \u001b[43mrobot\u001b[49m\u001b[38;5;241m.\u001b[39mplacement(q, idx)\n\u001b[1;32m      9\u001b[0m \u001b[38;5;66;03m# Be carreful, Python always returns references to values.\u001b[39;00m\n\u001b[1;32m     10\u001b[0m \u001b[38;5;66;03m# You can often .copy() the object to avoid side effects\u001b[39;00m\n\u001b[1;32m     11\u001b[0m \u001b[38;5;66;03m# Only get the placement\u001b[39;00m\n\u001b[1;32m     12\u001b[0m placement \u001b[38;5;241m=\u001b[39m data\u001b[38;5;241m.\u001b[39moMi[idx]\u001b[38;5;241m.\u001b[39mcopy()\n",
      "\u001b[0;31mNameError\u001b[0m: name 'robot' is not defined"
     ]
    }
   ],
   "source": [
    "# Get index of end effector\n",
    " \n",
    "idx = model.getJointId('R_index_proximal_joint')\n",
    "\n",
    "q = model.joints[idx]\n",
    "# Compute and get the placement of joint number idx\n",
    "#placement = robot.placement(q, idx)\n",
    "\n",
    "# Be carreful, Python always returns references to values.\n",
    "# You can often .copy() the object to avoid side effects\n",
    "# Only get the placement\n",
    "placement = data.oMi[idx].copy()\n"
   ]
  },
  {
   "cell_type": "code",
   "execution_count": 16,
   "metadata": {},
   "outputs": [
    {
     "data": {
      "text/plain": [
       "  R =\n",
       "1 0 0\n",
       "0 1 0\n",
       "0 0 1\n",
       "  p = 0 0 0"
      ]
     },
     "execution_count": 16,
     "metadata": {},
     "output_type": "execute_result"
    }
   ],
   "source": [
    "placement"
   ]
  },
  {
   "cell_type": "markdown",
   "metadata": {},
   "source": [
    "Finally, some recurring datas (used in Model and Data) have been wrapped to functions in some python shortcuts, also available in RomeoWrapper:\n",
    "\n",
    "    The size of the robot configuration is given by nq.\n",
    "    The dimension of its tangent space (velocity) is nv.\n",
    "    The index of a joint in the tree can be accessed from its name by index (see above).\n",
    "    The classical algorithms are also binded: com, Jcom, mass, biais, joint gravity, position and velocity of each joint."
   ]
  },
  {
   "cell_type": "code",
   "execution_count": 32,
   "metadata": {},
   "outputs": [
    {
     "data": {
      "text/plain": [
       "array([-1., -1., -1., -1., -1., -1., -1., -1., -1., -1., -1., -1., -1.])"
      ]
     },
     "execution_count": 32,
     "metadata": {},
     "output_type": "execute_result"
    }
   ],
   "source": [
    "from pinocchio.utils import zero, rand\n",
    "import numpy as np\n",
    "# q = zero(model.q)\n",
    "# v = rand(model.nv)\n",
    "model.nq\n",
    "model.nv\n",
    "placement = data.oMi[idx].copy()\n",
    "# model.com(q)  # Compute the robot center of mass.\n",
    "# model.placement(q, 3)  # Compute the placement of joint 3\n"
   ]
  },
  {
   "cell_type": "code",
   "execution_count": 35,
   "metadata": {},
   "outputs": [
    {
     "data": {
      "text/plain": [
       "array([0., 0., 0., 0., 0., 0., 0., 0., 0., 0., 0., 0.])"
      ]
     },
     "execution_count": 35,
     "metadata": {},
     "output_type": "execute_result"
    }
   ],
   "source": [
    "q = pin.neutral(model)\n",
    "q"
   ]
  },
  {
   "cell_type": "code",
   "execution_count": null,
   "metadata": {},
   "outputs": [],
   "source": []
  }
 ],
 "metadata": {
  "kernelspec": {
   "display_name": ".venv",
   "language": "python",
   "name": "python3"
  },
  "language_info": {
   "codemirror_mode": {
    "name": "ipython",
    "version": 3
   },
   "file_extension": ".py",
   "mimetype": "text/x-python",
   "name": "python",
   "nbconvert_exporter": "python",
   "pygments_lexer": "ipython3",
   "version": "3.8.10"
  }
 },
 "nbformat": 4,
 "nbformat_minor": 2
}
